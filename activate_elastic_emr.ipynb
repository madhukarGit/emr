{
 "cells": [
  {
   "cell_type": "code",
   "execution_count": 99,
   "metadata": {},
   "outputs": [],
   "source": [
    "import os\n",
    "import boto3\n",
    "\n",
    "#boto3.setup_default_session(profile_name='user2')\n",
    "\n"
   ]
  },
  {
   "cell_type": "code",
   "execution_count": 100,
   "metadata": {},
   "outputs": [
    {
     "name": "stdout",
     "output_type": "stream",
     "text": [
      "{'Name': 'analytics-emr-aws09876', 'CreationDate': datetime.datetime(2022, 12, 26, 9, 42, 17, tzinfo=tzutc())}\n",
      "{'Name': 'aws-emr-resources-436904145537-us-east-1', 'CreationDate': datetime.datetime(2022, 12, 26, 12, 59, 7, tzinfo=tzutc())}\n",
      "{'Name': 'aws-logs-436904145537-us-east-1', 'CreationDate': datetime.datetime(2022, 12, 26, 12, 38, 5, tzinfo=tzutc())}\n"
     ]
    }
   ],
   "source": [
    "s3_client = boto3.client('s3')\n",
    "\n",
    "#s3_client = boto3.client('s3')\n",
    "buckets = s3_client.list_buckets()['Buckets']\n",
    "for bucket in buckets:\n",
    "  print(bucket)\n",
    "\n",
    "#s3://analytics-emr-aws09876"
   ]
  },
  {
   "cell_type": "code",
   "execution_count": null,
   "metadata": {},
   "outputs": [],
   "source": []
  },
  {
   "cell_type": "code",
   "execution_count": 94,
   "metadata": {},
   "outputs": [],
   "source": [
    "emr_client = boto3.client('emr')"
   ]
  },
  {
   "cell_type": "code",
   "execution_count": 95,
   "metadata": {},
   "outputs": [
    {
     "data": {
      "text/plain": [
       "[{'Id': 'j-2TMGAV3LB1IYB',\n",
       "  'Name': 'AIDevCluster',\n",
       "  'Status': {'State': 'WAITING',\n",
       "   'StateChangeReason': {'Message': 'Cluster ready to run steps.'},\n",
       "   'Timeline': {'CreationDateTime': datetime.datetime(2022, 12, 26, 18, 11, 19, 224000, tzinfo=tzlocal()),\n",
       "    'ReadyDateTime': datetime.datetime(2022, 12, 26, 18, 16, 50, 679000, tzinfo=tzlocal())}},\n",
       "  'NormalizedInstanceHours': 0,\n",
       "  'ClusterArn': 'arn:aws:elasticmapreduce:us-east-1:436904145537:cluster/j-2TMGAV3LB1IYB'}]"
      ]
     },
     "execution_count": 95,
     "metadata": {},
     "output_type": "execute_result"
    }
   ],
   "source": [
    "clusters = emr_client.list_clusters(ClusterStates=['WAITING','RUNNING'])['Clusters']\n",
    "clusters"
   ]
  },
  {
   "cell_type": "code",
   "execution_count": 79,
   "metadata": {},
   "outputs": [
    {
     "name": "stdout",
     "output_type": "stream",
     "text": [
      "j-2TMGAV3LB1IYB\n"
     ]
    }
   ],
   "source": [
    "for cluster in clusters:\n",
    "  if cluster['Name'] == \"AIDevCluster\":\n",
    "    print(cluster['Id'])"
   ]
  },
  {
   "cell_type": "code",
   "execution_count": 80,
   "metadata": {},
   "outputs": [],
   "source": [
    "cluster_details = emr_client.describe_cluster(ClusterId='j-3TDWUEYRTWNGL')"
   ]
  },
  {
   "cell_type": "code",
   "execution_count": 49,
   "metadata": {},
   "outputs": [],
   "source": [
    "master_public_dns = cluster_details['Cluster']['MasterPublicDnsName']"
   ]
  },
  {
   "cell_type": "code",
   "execution_count": 50,
   "metadata": {},
   "outputs": [
    {
     "data": {
      "text/plain": [
       "'ec2-34-229-65-38.compute-1.amazonaws.com'"
      ]
     },
     "execution_count": 50,
     "metadata": {},
     "output_type": "execute_result"
    }
   ],
   "source": [
    "master_public_dns"
   ]
  },
  {
   "cell_type": "code",
   "execution_count": 51,
   "metadata": {},
   "outputs": [],
   "source": [
    "instances = emr_client.list_instances(ClusterId='j-3TDWUEYRTWNGL')['Instances']"
   ]
  },
  {
   "cell_type": "code",
   "execution_count": 81,
   "metadata": {},
   "outputs": [
    {
     "name": "stdout",
     "output_type": "stream",
     "text": [
      "i-0458f1fb51b1a6599\n"
     ]
    }
   ],
   "source": [
    "for instance in instances:\n",
    "  if instance['PublicDnsName'] == master_public_dns:\n",
    "    print(instance['Ec2InstanceId'])"
   ]
  },
  {
   "cell_type": "code",
   "execution_count": null,
   "metadata": {},
   "outputs": [],
   "source": []
  }
 ],
 "metadata": {
  "interpreter": {
   "hash": "aee8b7b246df8f9039afb4144a1f6fd8d2ca17a180786b69acc140d282b71a49"
  },
  "kernelspec": {
   "display_name": "Python 3.10.7 64-bit",
   "language": "python",
   "name": "python3"
  },
  "language_info": {
   "codemirror_mode": {
    "name": "ipython",
    "version": 3
   },
   "file_extension": ".py",
   "mimetype": "text/x-python",
   "name": "python",
   "nbconvert_exporter": "python",
   "pygments_lexer": "ipython3",
   "version": "3.10.7"
  },
  "orig_nbformat": 4
 },
 "nbformat": 4,
 "nbformat_minor": 2
}
